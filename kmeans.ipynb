{
  "nbformat": 4,
  "nbformat_minor": 0,
  "metadata": {
    "colab": {
      "name": "module5.ipynb",
      "provenance": [],
      "authorship_tag": "ABX9TyPXtF5NFUEpQ4PDEeq2OwFw",
      "include_colab_link": true
    },
    "kernelspec": {
      "name": "python3",
      "display_name": "Python 3"
    },
    "language_info": {
      "name": "python"
    }
  },
  "cells": [
    {
      "cell_type": "markdown",
      "metadata": {
        "id": "view-in-github",
        "colab_type": "text"
      },
      "source": [
        "<a href=\"https://colab.research.google.com/github/JoshJingtianWang/Clustering-urban-land-cover-types/blob/main/kmeans.ipynb\" target=\"_parent\"><img src=\"https://colab.research.google.com/assets/colab-badge.svg\" alt=\"Open In Colab\"/></a>"
      ]
    },
    {
      "cell_type": "code",
      "metadata": {
        "colab": {
          "base_uri": "https://localhost:8080/"
        },
        "id": "c4TiHs0RwPv_",
        "outputId": "a7410fdd-fe47-4660-e71c-df76e832ad51"
      },
      "source": [
        "from google.colab import drive \n",
        "drive.mount('/content/drive')\n",
        "!pwd"
      ],
      "execution_count": 1,
      "outputs": [
        {
          "output_type": "stream",
          "name": "stdout",
          "text": [
            "Mounted at /content/drive\n",
            "/content\n"
          ]
        }
      ]
    },
    {
      "cell_type": "code",
      "metadata": {
        "colab": {
          "base_uri": "https://localhost:8080/",
          "height": 35
        },
        "id": "AXd1DN1IwSm5",
        "outputId": "25b5c5f1-ddb9-4df1-88f1-76b96cdafbb1"
      },
      "source": [
        "import os\n",
        "os.getcwd()"
      ],
      "execution_count": 3,
      "outputs": [
        {
          "output_type": "execute_result",
          "data": {
            "application/vnd.google.colaboratory.intrinsic+json": {
              "type": "string"
            },
            "text/plain": [
              "'/content'"
            ]
          },
          "metadata": {},
          "execution_count": 3
        }
      ]
    },
    {
      "cell_type": "code",
      "metadata": {
        "colab": {
          "base_uri": "https://localhost:8080/"
        },
        "id": "ggj68loNwT8M",
        "outputId": "d25f66cf-bba4-4a7d-9cbb-605e8d54a86d"
      },
      "source": [
        "os.chdir('/content/drive/MyDrive/Spitale Lab/Fundamentals_of_Data_Science/module 5')\n",
        "!pwd"
      ],
      "execution_count": 4,
      "outputs": [
        {
          "output_type": "stream",
          "name": "stdout",
          "text": [
            "/content/drive/MyDrive/Spitale Lab/Fundamentals_of_Data_Science/module 5\n"
          ]
        }
      ]
    },
    {
      "cell_type": "code",
      "metadata": {
        "id": "fBSHydcOwVgD"
      },
      "source": [
        "#import necessary libraries\n",
        "import pandas as pd\n",
        "import numpy as np\n",
        "import matplotlib.pyplot as plt\n",
        "%matplotlib inline\n",
        "from sklearn.cluster import KMeans"
      ],
      "execution_count": 5,
      "outputs": []
    },
    {
      "cell_type": "code",
      "metadata": {
        "colab": {
          "base_uri": "https://localhost:8080/",
          "height": 256
        },
        "id": "UZJjgTDfwYCh",
        "outputId": "64e71a56-1677-4eec-800c-e83e8bfadd36"
      },
      "source": [
        "dataset=pd.read_csv('urbanlandcover.csv')\n",
        "dataset.head()"
      ],
      "execution_count": 6,
      "outputs": [
        {
          "output_type": "execute_result",
          "data": {
            "text/html": [
              "<div>\n",
              "<style scoped>\n",
              "    .dataframe tbody tr th:only-of-type {\n",
              "        vertical-align: middle;\n",
              "    }\n",
              "\n",
              "    .dataframe tbody tr th {\n",
              "        vertical-align: top;\n",
              "    }\n",
              "\n",
              "    .dataframe thead th {\n",
              "        text-align: right;\n",
              "    }\n",
              "</style>\n",
              "<table border=\"1\" class=\"dataframe\">\n",
              "  <thead>\n",
              "    <tr style=\"text-align: right;\">\n",
              "      <th></th>\n",
              "      <th>class</th>\n",
              "      <th>BrdIndx</th>\n",
              "      <th>Area</th>\n",
              "      <th>Round</th>\n",
              "      <th>Bright</th>\n",
              "      <th>Compact</th>\n",
              "      <th>ShpIndx</th>\n",
              "      <th>Mean_G</th>\n",
              "      <th>Mean_R</th>\n",
              "      <th>Mean_NIR</th>\n",
              "      <th>SD_G</th>\n",
              "      <th>SD_R</th>\n",
              "      <th>SD_NIR</th>\n",
              "      <th>LW</th>\n",
              "      <th>GLCM1</th>\n",
              "      <th>Rect</th>\n",
              "      <th>GLCM2</th>\n",
              "      <th>Dens</th>\n",
              "      <th>Assym</th>\n",
              "      <th>NDVI</th>\n",
              "      <th>BordLngth</th>\n",
              "      <th>GLCM3</th>\n",
              "      <th>BrdIndx_40</th>\n",
              "      <th>Area_40</th>\n",
              "      <th>Round_40</th>\n",
              "      <th>Bright_40</th>\n",
              "      <th>Compact_40</th>\n",
              "      <th>ShpIndx_40</th>\n",
              "      <th>Mean_G_40</th>\n",
              "      <th>Mean_R_40</th>\n",
              "      <th>Mean_NIR_40</th>\n",
              "      <th>SD_G_40</th>\n",
              "      <th>SD_R_40</th>\n",
              "      <th>SD_NIR_40</th>\n",
              "      <th>LW_40</th>\n",
              "      <th>GLCM1_40</th>\n",
              "      <th>Rect_40</th>\n",
              "      <th>GLCM2_40</th>\n",
              "      <th>Dens_40</th>\n",
              "      <th>Assym_40</th>\n",
              "      <th>...</th>\n",
              "      <th>Round_120</th>\n",
              "      <th>Bright_120</th>\n",
              "      <th>Compact_120</th>\n",
              "      <th>ShpIndx_120</th>\n",
              "      <th>Mean_G_120</th>\n",
              "      <th>Mean_R_120</th>\n",
              "      <th>Mean_NIR_120</th>\n",
              "      <th>SD_G_120</th>\n",
              "      <th>SD_R_120</th>\n",
              "      <th>SD_NIR_120</th>\n",
              "      <th>LW_120</th>\n",
              "      <th>GLCM1_120</th>\n",
              "      <th>Rect_120</th>\n",
              "      <th>GLCM2_120</th>\n",
              "      <th>Dens_120</th>\n",
              "      <th>Assym_120</th>\n",
              "      <th>NDVI_120</th>\n",
              "      <th>BordLngth_120</th>\n",
              "      <th>GLCM3_120</th>\n",
              "      <th>BrdIndx_140</th>\n",
              "      <th>Area_140</th>\n",
              "      <th>Round_140</th>\n",
              "      <th>Bright_140</th>\n",
              "      <th>Compact_140</th>\n",
              "      <th>ShpIndx_140</th>\n",
              "      <th>Mean_G_140</th>\n",
              "      <th>Mean_R_140</th>\n",
              "      <th>Mean_NIR_140</th>\n",
              "      <th>SD_G_140</th>\n",
              "      <th>SD_R_140</th>\n",
              "      <th>SD_NIR_140</th>\n",
              "      <th>LW_140</th>\n",
              "      <th>GLCM1_140</th>\n",
              "      <th>Rect_140</th>\n",
              "      <th>GLCM2_140</th>\n",
              "      <th>Dens_140</th>\n",
              "      <th>Assym_140</th>\n",
              "      <th>NDVI_140</th>\n",
              "      <th>BordLngth_140</th>\n",
              "      <th>GLCM3_140</th>\n",
              "    </tr>\n",
              "  </thead>\n",
              "  <tbody>\n",
              "    <tr>\n",
              "      <th>0</th>\n",
              "      <td>concrete</td>\n",
              "      <td>1.32</td>\n",
              "      <td>131</td>\n",
              "      <td>0.81</td>\n",
              "      <td>222.74</td>\n",
              "      <td>1.66</td>\n",
              "      <td>2.18</td>\n",
              "      <td>192.94</td>\n",
              "      <td>235.11</td>\n",
              "      <td>240.15</td>\n",
              "      <td>11.24</td>\n",
              "      <td>11.47</td>\n",
              "      <td>11.24</td>\n",
              "      <td>8.18</td>\n",
              "      <td>0.43</td>\n",
              "      <td>0.78</td>\n",
              "      <td>6.64</td>\n",
              "      <td>0.87</td>\n",
              "      <td>0.99</td>\n",
              "      <td>-0.10</td>\n",
              "      <td>100</td>\n",
              "      <td>4322.47</td>\n",
              "      <td>1.32</td>\n",
              "      <td>131</td>\n",
              "      <td>0.81</td>\n",
              "      <td>222.74</td>\n",
              "      <td>1.66</td>\n",
              "      <td>2.18</td>\n",
              "      <td>192.94</td>\n",
              "      <td>235.11</td>\n",
              "      <td>240.15</td>\n",
              "      <td>11.24</td>\n",
              "      <td>11.47</td>\n",
              "      <td>11.24</td>\n",
              "      <td>8.18</td>\n",
              "      <td>0.43</td>\n",
              "      <td>0.78</td>\n",
              "      <td>6.64</td>\n",
              "      <td>0.87</td>\n",
              "      <td>0.99</td>\n",
              "      <td>...</td>\n",
              "      <td>2.43</td>\n",
              "      <td>189.73</td>\n",
              "      <td>3.62</td>\n",
              "      <td>3.40</td>\n",
              "      <td>163.61</td>\n",
              "      <td>201.29</td>\n",
              "      <td>204.28</td>\n",
              "      <td>25.25</td>\n",
              "      <td>28.33</td>\n",
              "      <td>28.30</td>\n",
              "      <td>3.82</td>\n",
              "      <td>0.79</td>\n",
              "      <td>0.57</td>\n",
              "      <td>8.35</td>\n",
              "      <td>0.96</td>\n",
              "      <td>0.96</td>\n",
              "      <td>-0.10</td>\n",
              "      <td>1188</td>\n",
              "      <td>1298.99</td>\n",
              "      <td>2.93</td>\n",
              "      <td>9172</td>\n",
              "      <td>2.50</td>\n",
              "      <td>185.14</td>\n",
              "      <td>3.94</td>\n",
              "      <td>3.95</td>\n",
              "      <td>159.45</td>\n",
              "      <td>196.43</td>\n",
              "      <td>199.53</td>\n",
              "      <td>27.81</td>\n",
              "      <td>31.55</td>\n",
              "      <td>31.15</td>\n",
              "      <td>5.04</td>\n",
              "      <td>0.80</td>\n",
              "      <td>0.58</td>\n",
              "      <td>8.56</td>\n",
              "      <td>0.82</td>\n",
              "      <td>0.98</td>\n",
              "      <td>-0.10</td>\n",
              "      <td>1512</td>\n",
              "      <td>1287.52</td>\n",
              "    </tr>\n",
              "    <tr>\n",
              "      <th>1</th>\n",
              "      <td>shadow</td>\n",
              "      <td>1.59</td>\n",
              "      <td>864</td>\n",
              "      <td>0.94</td>\n",
              "      <td>47.56</td>\n",
              "      <td>1.41</td>\n",
              "      <td>1.87</td>\n",
              "      <td>36.82</td>\n",
              "      <td>48.78</td>\n",
              "      <td>57.09</td>\n",
              "      <td>8.15</td>\n",
              "      <td>8.02</td>\n",
              "      <td>8.36</td>\n",
              "      <td>3.05</td>\n",
              "      <td>0.43</td>\n",
              "      <td>0.85</td>\n",
              "      <td>6.75</td>\n",
              "      <td>1.81</td>\n",
              "      <td>0.73</td>\n",
              "      <td>-0.14</td>\n",
              "      <td>220</td>\n",
              "      <td>3331.33</td>\n",
              "      <td>1.08</td>\n",
              "      <td>1353</td>\n",
              "      <td>0.46</td>\n",
              "      <td>49.12</td>\n",
              "      <td>1.09</td>\n",
              "      <td>1.33</td>\n",
              "      <td>38.29</td>\n",
              "      <td>50.40</td>\n",
              "      <td>58.67</td>\n",
              "      <td>8.84</td>\n",
              "      <td>9.97</td>\n",
              "      <td>10.55</td>\n",
              "      <td>3.70</td>\n",
              "      <td>0.51</td>\n",
              "      <td>0.96</td>\n",
              "      <td>6.96</td>\n",
              "      <td>1.67</td>\n",
              "      <td>0.86</td>\n",
              "      <td>...</td>\n",
              "      <td>0.46</td>\n",
              "      <td>49.82</td>\n",
              "      <td>1.07</td>\n",
              "      <td>1.32</td>\n",
              "      <td>38.88</td>\n",
              "      <td>51.21</td>\n",
              "      <td>59.38</td>\n",
              "      <td>10.07</td>\n",
              "      <td>11.89</td>\n",
              "      <td>12.01</td>\n",
              "      <td>3.70</td>\n",
              "      <td>0.52</td>\n",
              "      <td>0.96</td>\n",
              "      <td>7.01</td>\n",
              "      <td>1.69</td>\n",
              "      <td>0.86</td>\n",
              "      <td>-0.14</td>\n",
              "      <td>196</td>\n",
              "      <td>2659.74</td>\n",
              "      <td>1.07</td>\n",
              "      <td>1377</td>\n",
              "      <td>0.46</td>\n",
              "      <td>49.82</td>\n",
              "      <td>1.07</td>\n",
              "      <td>1.32</td>\n",
              "      <td>38.88</td>\n",
              "      <td>51.21</td>\n",
              "      <td>59.38</td>\n",
              "      <td>10.07</td>\n",
              "      <td>11.89</td>\n",
              "      <td>12.01</td>\n",
              "      <td>3.70</td>\n",
              "      <td>0.52</td>\n",
              "      <td>0.96</td>\n",
              "      <td>7.01</td>\n",
              "      <td>1.69</td>\n",
              "      <td>0.86</td>\n",
              "      <td>-0.14</td>\n",
              "      <td>196</td>\n",
              "      <td>2659.74</td>\n",
              "    </tr>\n",
              "    <tr>\n",
              "      <th>2</th>\n",
              "      <td>shadow</td>\n",
              "      <td>1.41</td>\n",
              "      <td>409</td>\n",
              "      <td>1.00</td>\n",
              "      <td>51.38</td>\n",
              "      <td>1.37</td>\n",
              "      <td>1.53</td>\n",
              "      <td>41.72</td>\n",
              "      <td>51.96</td>\n",
              "      <td>60.48</td>\n",
              "      <td>8.11</td>\n",
              "      <td>9.20</td>\n",
              "      <td>9.61</td>\n",
              "      <td>1.94</td>\n",
              "      <td>0.54</td>\n",
              "      <td>0.86</td>\n",
              "      <td>6.51</td>\n",
              "      <td>1.82</td>\n",
              "      <td>0.69</td>\n",
              "      <td>-0.11</td>\n",
              "      <td>124</td>\n",
              "      <td>2816.16</td>\n",
              "      <td>1.75</td>\n",
              "      <td>1094</td>\n",
              "      <td>1.91</td>\n",
              "      <td>49.05</td>\n",
              "      <td>1.84</td>\n",
              "      <td>1.98</td>\n",
              "      <td>40.06</td>\n",
              "      <td>50.07</td>\n",
              "      <td>57.02</td>\n",
              "      <td>10.54</td>\n",
              "      <td>10.81</td>\n",
              "      <td>11.55</td>\n",
              "      <td>2.57</td>\n",
              "      <td>0.49</td>\n",
              "      <td>0.75</td>\n",
              "      <td>6.93</td>\n",
              "      <td>1.49</td>\n",
              "      <td>0.88</td>\n",
              "      <td>...</td>\n",
              "      <td>2.00</td>\n",
              "      <td>46.57</td>\n",
              "      <td>2.78</td>\n",
              "      <td>2.79</td>\n",
              "      <td>40.01</td>\n",
              "      <td>46.34</td>\n",
              "      <td>53.36</td>\n",
              "      <td>14.49</td>\n",
              "      <td>11.78</td>\n",
              "      <td>12.31</td>\n",
              "      <td>3.57</td>\n",
              "      <td>0.65</td>\n",
              "      <td>0.60</td>\n",
              "      <td>7.11</td>\n",
              "      <td>1.16</td>\n",
              "      <td>0.93</td>\n",
              "      <td>-0.07</td>\n",
              "      <td>602</td>\n",
              "      <td>1432.44</td>\n",
              "      <td>3.33</td>\n",
              "      <td>5932</td>\n",
              "      <td>1.69</td>\n",
              "      <td>55.06</td>\n",
              "      <td>2.68</td>\n",
              "      <td>3.89</td>\n",
              "      <td>59.76</td>\n",
              "      <td>48.66</td>\n",
              "      <td>56.76</td>\n",
              "      <td>30.65</td>\n",
              "      <td>18.59</td>\n",
              "      <td>18.75</td>\n",
              "      <td>3.09</td>\n",
              "      <td>0.90</td>\n",
              "      <td>0.63</td>\n",
              "      <td>8.32</td>\n",
              "      <td>1.38</td>\n",
              "      <td>0.84</td>\n",
              "      <td>0.10</td>\n",
              "      <td>1198</td>\n",
              "      <td>720.38</td>\n",
              "    </tr>\n",
              "    <tr>\n",
              "      <th>3</th>\n",
              "      <td>tree</td>\n",
              "      <td>2.58</td>\n",
              "      <td>187</td>\n",
              "      <td>1.91</td>\n",
              "      <td>70.08</td>\n",
              "      <td>3.41</td>\n",
              "      <td>3.11</td>\n",
              "      <td>93.13</td>\n",
              "      <td>55.20</td>\n",
              "      <td>61.92</td>\n",
              "      <td>28.60</td>\n",
              "      <td>15.88</td>\n",
              "      <td>15.09</td>\n",
              "      <td>3.23</td>\n",
              "      <td>0.73</td>\n",
              "      <td>0.50</td>\n",
              "      <td>7.28</td>\n",
              "      <td>1.03</td>\n",
              "      <td>0.89</td>\n",
              "      <td>0.26</td>\n",
              "      <td>170</td>\n",
              "      <td>2442.01</td>\n",
              "      <td>2.86</td>\n",
              "      <td>871</td>\n",
              "      <td>2.22</td>\n",
              "      <td>90.21</td>\n",
              "      <td>3.34</td>\n",
              "      <td>3.93</td>\n",
              "      <td>117.16</td>\n",
              "      <td>72.76</td>\n",
              "      <td>80.70</td>\n",
              "      <td>42.07</td>\n",
              "      <td>27.05</td>\n",
              "      <td>27.38</td>\n",
              "      <td>5.25</td>\n",
              "      <td>0.84</td>\n",
              "      <td>0.51</td>\n",
              "      <td>8.56</td>\n",
              "      <td>0.89</td>\n",
              "      <td>0.95</td>\n",
              "      <td>...</td>\n",
              "      <td>1.65</td>\n",
              "      <td>69.80</td>\n",
              "      <td>2.20</td>\n",
              "      <td>3.22</td>\n",
              "      <td>86.22</td>\n",
              "      <td>58.03</td>\n",
              "      <td>65.15</td>\n",
              "      <td>47.93</td>\n",
              "      <td>26.70</td>\n",
              "      <td>27.67</td>\n",
              "      <td>6.33</td>\n",
              "      <td>0.89</td>\n",
              "      <td>0.70</td>\n",
              "      <td>8.56</td>\n",
              "      <td>1.10</td>\n",
              "      <td>0.96</td>\n",
              "      <td>0.20</td>\n",
              "      <td>524</td>\n",
              "      <td>891.36</td>\n",
              "      <td>2.18</td>\n",
              "      <td>1660</td>\n",
              "      <td>1.65</td>\n",
              "      <td>69.80</td>\n",
              "      <td>2.20</td>\n",
              "      <td>3.22</td>\n",
              "      <td>86.22</td>\n",
              "      <td>58.03</td>\n",
              "      <td>65.15</td>\n",
              "      <td>47.93</td>\n",
              "      <td>26.70</td>\n",
              "      <td>27.67</td>\n",
              "      <td>6.33</td>\n",
              "      <td>0.89</td>\n",
              "      <td>0.70</td>\n",
              "      <td>8.56</td>\n",
              "      <td>1.10</td>\n",
              "      <td>0.96</td>\n",
              "      <td>0.20</td>\n",
              "      <td>524</td>\n",
              "      <td>891.36</td>\n",
              "    </tr>\n",
              "    <tr>\n",
              "      <th>4</th>\n",
              "      <td>asphalt</td>\n",
              "      <td>2.60</td>\n",
              "      <td>116</td>\n",
              "      <td>2.05</td>\n",
              "      <td>89.57</td>\n",
              "      <td>3.06</td>\n",
              "      <td>3.02</td>\n",
              "      <td>73.17</td>\n",
              "      <td>94.89</td>\n",
              "      <td>100.64</td>\n",
              "      <td>5.41</td>\n",
              "      <td>5.20</td>\n",
              "      <td>5.27</td>\n",
              "      <td>2.30</td>\n",
              "      <td>0.43</td>\n",
              "      <td>0.59</td>\n",
              "      <td>6.02</td>\n",
              "      <td>1.23</td>\n",
              "      <td>0.82</td>\n",
              "      <td>-0.13</td>\n",
              "      <td>130</td>\n",
              "      <td>4912.28</td>\n",
              "      <td>4.02</td>\n",
              "      <td>501</td>\n",
              "      <td>2.33</td>\n",
              "      <td>100.69</td>\n",
              "      <td>4.29</td>\n",
              "      <td>4.40</td>\n",
              "      <td>83.66</td>\n",
              "      <td>106.21</td>\n",
              "      <td>112.19</td>\n",
              "      <td>15.39</td>\n",
              "      <td>16.50</td>\n",
              "      <td>16.44</td>\n",
              "      <td>2.24</td>\n",
              "      <td>0.64</td>\n",
              "      <td>0.45</td>\n",
              "      <td>7.28</td>\n",
              "      <td>1.13</td>\n",
              "      <td>0.79</td>\n",
              "      <td>...</td>\n",
              "      <td>1.05</td>\n",
              "      <td>96.24</td>\n",
              "      <td>2.00</td>\n",
              "      <td>2.56</td>\n",
              "      <td>82.84</td>\n",
              "      <td>100.31</td>\n",
              "      <td>105.55</td>\n",
              "      <td>30.51</td>\n",
              "      <td>32.60</td>\n",
              "      <td>32.05</td>\n",
              "      <td>1.01</td>\n",
              "      <td>0.83</td>\n",
              "      <td>0.75</td>\n",
              "      <td>8.62</td>\n",
              "      <td>2.08</td>\n",
              "      <td>0.08</td>\n",
              "      <td>-0.10</td>\n",
              "      <td>496</td>\n",
              "      <td>1194.76</td>\n",
              "      <td>2.53</td>\n",
              "      <td>2351</td>\n",
              "      <td>1.05</td>\n",
              "      <td>96.24</td>\n",
              "      <td>2.00</td>\n",
              "      <td>2.56</td>\n",
              "      <td>82.84</td>\n",
              "      <td>100.31</td>\n",
              "      <td>105.55</td>\n",
              "      <td>30.51</td>\n",
              "      <td>32.60</td>\n",
              "      <td>32.05</td>\n",
              "      <td>1.01</td>\n",
              "      <td>0.83</td>\n",
              "      <td>0.75</td>\n",
              "      <td>8.62</td>\n",
              "      <td>2.08</td>\n",
              "      <td>0.08</td>\n",
              "      <td>-0.10</td>\n",
              "      <td>496</td>\n",
              "      <td>1194.76</td>\n",
              "    </tr>\n",
              "  </tbody>\n",
              "</table>\n",
              "<p>5 rows × 148 columns</p>\n",
              "</div>"
            ],
            "text/plain": [
              "       class  BrdIndx  Area  ...  NDVI_140  BordLngth_140  GLCM3_140\n",
              "0  concrete      1.32   131  ...     -0.10           1512    1287.52\n",
              "1    shadow      1.59   864  ...     -0.14            196    2659.74\n",
              "2    shadow      1.41   409  ...      0.10           1198     720.38\n",
              "3      tree      2.58   187  ...      0.20            524     891.36\n",
              "4   asphalt      2.60   116  ...     -0.10            496    1194.76\n",
              "\n",
              "[5 rows x 148 columns]"
            ]
          },
          "metadata": {},
          "execution_count": 6
        }
      ]
    },
    {
      "cell_type": "code",
      "metadata": {
        "id": "hJ7jMPmE1R9v"
      },
      "source": [
        "x=dataset.drop('class', axis=1).values"
      ],
      "execution_count": 7,
      "outputs": []
    },
    {
      "cell_type": "code",
      "metadata": {
        "colab": {
          "base_uri": "https://localhost:8080/"
        },
        "id": "0T_g5cM5-O19",
        "outputId": "5cb37d47-97ec-4254-f00c-fb2d8bd15e0d"
      },
      "source": [
        "kmeans9=KMeans(n_clusters=9)\n",
        "y_kmeans9=kmeans9.fit_predict(x)\n",
        "print(y_kmeans9)"
      ],
      "execution_count": 8,
      "outputs": [
        {
          "output_type": "stream",
          "name": "stdout",
          "text": [
            "[5 6 5 6 6 5 5 5 5 6 6 5 5 1 5 5 5 7 5 7 6 6 5 6 7 6 6 5 6 6 0 5 6 2 6 5 5\n",
            " 7 6 6 6 1 6 6 5 6 2 7 7 6 6 6 6 5 6 6 6 6 2 6 6 6 6 6 6 6 6 7 6 6 6 7 7 7\n",
            " 5 5 5 6 5 6 2 5 0 7 6 6 5 5 6 6 0 6 6 5 5 6 5 5 5 6 6 5 5 7 6 6 6 6 5 6 7\n",
            " 6 5 5 6 7 7 6 6 6 7 5 6 6 6 6 3 3 6 5 6 6 5 5 6 6 6 5 5 6 6 7 7 6 6 6 6 6\n",
            " 6 6 6 5 5 5 7 6 6 6 2 7 0 6 6 6 5 5 6 5 6 6 0 5 7 0 0 6 6 5 6 6 6 6 6 5 5\n",
            " 5 6 5 6 6 6 6 0 6 3 7 7 0 6 6 5 5 6 6 6 6 6 5 6 6 5 6 0 0 1 3 6 7 5 6 6 6\n",
            " 7 6 5 6 6 6 6 6 0 7 6 6 2 8 0 1 5 0 6 7 6 6 0 6 5 3 1 6 6 7 5 7 5 7 7 6 6\n",
            " 7 6 6 5 7 0 6 2 1 1 7 6 6 6 6 7 6 0 8 6 6 5 6 5 5 6 1 1 1 0 5 3 7 6 6 2 5\n",
            " 5 6 6 5 5 8 2 0 6 0 5 5 5 7 6 7 6 7 5 5 8 3 6 8 8 0 6 6 2 5 6 6 6 2 6 4 0\n",
            " 5 5 6 6 0 6 1 6 5 6 5 0 6 6 5 2 7 6 5 6 0 0 5 0 6 5 6 6 2 6 6 5 2 6 6 5 5\n",
            " 5 5 6 6 6 6 5 0 6 6 5 8 6 2 5 0 0 2 1 1 5 5 6 5 0 5 7 0 2 6 8 8 6 8 5 5 6\n",
            " 5 5 7 5 6 6 5 2 6 0 7 5 5 0 2 5 5 0 5 6 7 6 6 5 6 6 5 5 5 2 5 7 7 5 5 5 5\n",
            " 5 2 5 7 6 8 6 2 7 6 0 6 6 6 3 7 6 4 4 6 6 0 0 7 2 5 5 6 5 5 6 6 6 6 0 0 1\n",
            " 6 1 3 3 0 3 5 5 6 6 7 7 7 5 6 5 0 5 5 5 6 0 5 7 5 6]\n"
          ]
        }
      ]
    },
    {
      "cell_type": "code",
      "metadata": {
        "colab": {
          "base_uri": "https://localhost:8080/"
        },
        "id": "NKB6pBtONzK8",
        "outputId": "b6a8a899-1f7a-4199-88eb-239f468e53f1"
      },
      "source": [
        "kmeans9.fit(x)"
      ],
      "execution_count": 9,
      "outputs": [
        {
          "output_type": "execute_result",
          "data": {
            "text/plain": [
              "KMeans(n_clusters=9)"
            ]
          },
          "metadata": {},
          "execution_count": 9
        }
      ]
    },
    {
      "cell_type": "code",
      "metadata": {
        "colab": {
          "base_uri": "https://localhost:8080/"
        },
        "id": "3GPZAGJ9EJYi",
        "outputId": "d4a6329c-ce05-412e-fda8-fc6fc0159972"
      },
      "source": [
        "kmeans9.cluster_centers_"
      ],
      "execution_count": 10,
      "outputs": [
        {
          "output_type": "execute_result",
          "data": {
            "text/plain": [
              "array([[ 1.90061033e+00,  4.69765258e+02,  1.19230047e+00, ...,\n",
              "         3.64319249e-02,  6.18835681e+02,  1.10074174e+03],\n",
              "       [ 2.16526316e+00,  5.02000000e+02,  1.30868421e+00, ...,\n",
              "         1.31578947e-03,  2.46442105e+03,  1.07546263e+03],\n",
              "       [ 2.37576923e+00,  1.00457692e+03,  1.28076923e+00, ...,\n",
              "        -7.19230769e-02,  2.07446154e+03,  1.29416231e+03],\n",
              "       ...,\n",
              "       [ 2.08000000e+00,  8.30000000e+02,  9.10000000e-01, ...,\n",
              "        -7.00000000e-02,  7.34000000e+02,  2.07152000e+03],\n",
              "       [ 2.01715328e+00,  3.22160584e+02,  1.27839416e+00, ...,\n",
              "         8.62773723e-02,  1.59909489e+03,  8.55107810e+02],\n",
              "       [ 2.24933333e+00,  6.94200000e+02,  1.30466667e+00, ...,\n",
              "         2.00000000e-03,  4.17600000e+03,  1.14991067e+03]])"
            ]
          },
          "metadata": {},
          "execution_count": 10
        }
      ]
    },
    {
      "cell_type": "code",
      "metadata": {
        "colab": {
          "base_uri": "https://localhost:8080/",
          "height": 295
        },
        "id": "2-Q1FgcfR2EJ",
        "outputId": "219f25ec-852c-4ce6-d7e6-1a795a48be68"
      },
      "source": [
        "Error=[]\n",
        "for i in range(1,20):\n",
        "  kmeans = KMeans(n_clusters=i).fit(x)\n",
        "  #kmeans.fit(x)\n",
        "  Error.append(kmeans.inertia_)\n",
        "plt.plot(range(1,20), Error)\n",
        "plt.title('Elbow method')\n",
        "plt.xlabel('No of clusters')\n",
        "plt.ylabel('Error')\n",
        "plt.show()"
      ],
      "execution_count": 11,
      "outputs": [
        {
          "output_type": "display_data",
          "data": {
            "image/png": "[encoded data removed]",
            "text/plain": [
              "<Figure size 432x288 with 1 Axes>"
            ]
          },
          "metadata": {
            "needs_background": "light"
          }
        }
      ]
    },
    {
      "cell_type": "code",
      "metadata": {
        "colab": {
          "base_uri": "https://localhost:8080/"
        },
        "id": "fwpAaQ1UTY4y",
        "outputId": "f153d750-90a7-4fbf-c55e-adf23bfb1f22"
      },
      "source": [
        "kmeans7=KMeans(n_clusters=7)\n",
        "y_kmeans7=kmeans7.fit_predict(x)\n",
        "print(y_kmeans7)"
      ],
      "execution_count": 12,
      "outputs": [
        {
          "output_type": "stream",
          "name": "stdout",
          "text": [
            "[4 0 4 0 0 4 4 4 4 0 0 4 4 5 4 4 4 1 4 5 0 0 4 0 1 0 0 4 0 0 1 4 0 3 0 4 4\n",
            " 1 0 0 0 5 0 0 4 0 3 1 1 0 0 0 0 4 0 0 0 0 3 0 0 0 0 0 0 0 0 1 0 0 0 1 5 5\n",
            " 4 4 4 0 4 0 3 4 1 1 0 0 4 4 0 0 1 0 0 4 4 0 4 4 4 0 0 4 4 1 0 0 0 0 4 0 1\n",
            " 0 4 4 0 1 1 0 0 0 1 4 0 0 0 0 6 6 0 4 0 0 4 4 0 0 0 4 4 0 0 1 5 0 0 0 0 0\n",
            " 4 0 0 4 4 4 1 0 0 0 3 1 1 0 0 0 4 4 0 4 0 0 1 4 1 4 1 0 0 4 0 0 0 0 0 4 4\n",
            " 4 0 4 0 0 0 0 1 0 6 1 5 4 0 0 4 4 0 0 0 0 0 4 0 0 4 0 1 1 5 2 0 5 4 0 0 0\n",
            " 1 0 4 0 0 0 0 0 1 1 0 0 3 3 1 5 4 1 0 1 0 0 1 0 4 6 5 0 0 1 4 1 4 1 1 0 0\n",
            " 1 0 0 4 1 4 0 3 5 5 5 4 0 0 0 1 0 1 3 0 0 4 0 4 4 0 5 5 5 4 4 6 1 4 0 3 4\n",
            " 4 0 0 4 4 3 3 1 0 4 4 4 4 1 0 1 0 1 4 4 6 6 0 6 6 1 0 0 3 4 0 0 0 3 0 2 1\n",
            " 4 4 4 0 1 0 5 0 4 0 4 1 0 0 4 3 1 0 4 0 1 1 4 4 0 4 0 0 3 0 0 4 3 0 4 4 4\n",
            " 4 1 0 0 0 0 4 1 0 0 4 3 0 3 4 1 1 3 5 5 4 4 0 4 1 4 1 1 3 0 3 6 0 6 4 4 0\n",
            " 4 4 1 4 0 0 4 1 0 1 1 4 4 1 3 4 4 4 4 0 1 0 0 4 0 0 4 4 4 3 4 1 1 4 4 4 4\n",
            " 4 3 4 1 0 6 0 3 1 0 1 0 0 0 6 1 0 2 2 0 0 4 1 1 1 4 4 0 4 4 0 0 4 0 1 1 5\n",
            " 0 5 6 6 1 6 4 4 0 0 1 1 1 4 0 4 1 4 4 4 0 1 4 5 4 0]\n"
          ]
        }
      ]
    },
    {
      "cell_type": "code",
      "metadata": {
        "colab": {
          "base_uri": "https://localhost:8080/"
        },
        "id": "SjLydz6mbZsG",
        "outputId": "05d03247-ba76-4727-d975-eb18d38ce79d"
      },
      "source": [
        "kmeans7.cluster_centers_"
      ],
      "execution_count": 13,
      "outputs": [
        {
          "output_type": "execute_result",
          "data": {
            "text/plain": [
              "array([[ 1.89550725e+00,  4.57946860e+02,  1.19000000e+00, ...,\n",
              "         4.00000000e-02,  6.13671498e+02,  1.09954300e+03],\n",
              "       [ 2.20892857e+00,  9.53869048e+02,  1.30416667e+00, ...,\n",
              "        -3.86904762e-02,  1.75002381e+03,  1.30784333e+03],\n",
              "       [ 1.88250000e+00,  8.63500000e+02,  8.40000000e-01, ...,\n",
              "        -9.50000000e-02,  5.04100000e+03,  1.90572750e+03],\n",
              "       ...,\n",
              "       [ 2.02632653e+00,  3.66054422e+02,  1.28496599e+00, ...,\n",
              "         7.23129252e-02,  1.52968707e+03,  9.04738980e+02],\n",
              "       [ 2.07913043e+00,  6.39217391e+02,  1.20173913e+00, ...,\n",
              "         8.69565217e-03,  3.80460870e+03,  1.10780130e+03],\n",
              "       [ 2.13312500e+00,  7.61562500e+02,  1.14875000e+00, ...,\n",
              "         1.87500000e-02,  3.04012500e+03,  1.34385313e+03]])"
            ]
          },
          "metadata": {},
          "execution_count": 13
        }
      ]
    },
    {
      "cell_type": "code",
      "metadata": {
        "colab": {
          "base_uri": "https://localhost:8080/",
          "height": 284
        },
        "id": "nJxZ5Wtvbrwm",
        "outputId": "2116c359-94da-469c-916e-845f044bf4b8"
      },
      "source": [
        "plt.scatter(x[:,0], x[:,1],c=y_kmeans7,cmap='rainbow')"
      ],
      "execution_count": 14,
      "outputs": [
        {
          "output_type": "execute_result",
          "data": {
            "text/plain": [
              "<matplotlib.collections.PathCollection at 0x7f2f4093c710>"
            ]
          },
          "metadata": {},
          "execution_count": 14
        },
        {
          "output_type": "display_data",
          "data": {
            "image/png": "[encoded data removed]",
            "text/plain": [
              "<Figure size 432x288 with 1 Axes>"
            ]
          },
          "metadata": {
            "needs_background": "light"
          }
        }
      ]
    },
    {
      "cell_type": "code",
      "metadata": {
        "id": "5zOpf7X0gWpf"
      },
      "source": [
        "y_kmeans7"
      ],
      "execution_count": null,
      "outputs": []
    },
    {
      "cell_type": "code",
      "metadata": {
        "id": "dNj05fYNFxUz"
      },
      "source": [
        "dataset['cluster']=y_kmeans7"
      ],
      "execution_count": null,
      "outputs": []
    },
    {
      "cell_type": "code",
      "metadata": {
        "id": "HX9TyxGEHb4R"
      },
      "source": [
        "dataset[['class', 'cluster']].to_csv('clustered.csv')"
      ],
      "execution_count": null,
      "outputs": []
    }
  ]
}